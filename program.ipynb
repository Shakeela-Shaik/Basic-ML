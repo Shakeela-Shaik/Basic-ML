{
  "nbformat": 4,
  "nbformat_minor": 0,
  "metadata": {
    "colab": {
      "name": "program.ipynb",
      "provenance": [],
      "authorship_tag": "ABX9TyPWerQXmwla0TXPH39Qpqu1",
      "include_colab_link": true
    },
    "kernelspec": {
      "name": "python3",
      "display_name": "Python 3"
    },
    "language_info": {
      "name": "python"
    }
  },
  "cells": [
    {
      "cell_type": "markdown",
      "metadata": {
        "id": "view-in-github",
        "colab_type": "text"
      },
      "source": [
        "<a href=\"https://colab.research.google.com/github/Shakeela-Shaik/Basic-ML/blob/main/program.ipynb\" target=\"_parent\"><img src=\"https://colab.research.google.com/assets/colab-badge.svg\" alt=\"Open In Colab\"/></a>"
      ]
    },
    {
      "cell_type": "markdown",
      "metadata": {
        "id": "mKQN30SKFIoI"
      },
      "source": [
        "**1.Program to find maximum of three numbers**"
      ]
    },
    {
      "cell_type": "code",
      "metadata": {
        "colab": {
          "base_uri": "https://localhost:8080/"
        },
        "id": "O3-UpY55JC2H",
        "outputId": "677b22c2-720e-47aa-9441-4ebf95819c3c"
      },
      "source": [
        "a = int(input())\n",
        "b = int(input())\n",
        "c = int(input())\n",
        "if (a>=b and a>=c):\n",
        "  print(\"a is largest\")\n",
        "elif (b>=a and b>=c):\n",
        "  print(\"b is largest\")\n",
        "else:\n",
        "  print(\"c is largest\")"
      ],
      "execution_count": 3,
      "outputs": [
        {
          "output_type": "stream",
          "text": [
            "10\n",
            "20\n",
            "5\n",
            "b is largest\n"
          ],
          "name": "stdout"
        }
      ]
    },
    {
      "cell_type": "markdown",
      "metadata": {
        "id": "K8ileNCiMAtS"
      },
      "source": [
        "**2.Program to find area of a circle**"
      ]
    },
    {
      "cell_type": "code",
      "metadata": {
        "colab": {
          "base_uri": "https://localhost:8080/"
        },
        "id": "xY17Oov_MT5N",
        "outputId": "52b24dc8-b9e5-443c-c630-f1d645201d08"
      },
      "source": [
        "r = int(input(\"enter the radius of a circle: \"))\n",
        "area = 3.14*r*r\n",
        "print(\"area of the circle is: \",area)"
      ],
      "execution_count": 14,
      "outputs": [
        {
          "output_type": "stream",
          "text": [
            "enter the radius of a circle: 4\n",
            "area of the circle is:  50.24\n"
          ],
          "name": "stdout"
        }
      ]
    },
    {
      "cell_type": "markdown",
      "metadata": {
        "id": "qu94pBNzNlVG"
      },
      "source": [
        "**3.Program to check given number is even or odd**"
      ]
    },
    {
      "cell_type": "code",
      "metadata": {
        "colab": {
          "base_uri": "https://localhost:8080/"
        },
        "id": "U5Sak9f7ODut",
        "outputId": "2b65a562-3c7d-4542-cd7d-2f45a9bb2a73"
      },
      "source": [
        "n = int(input())\n",
        "if n%2==0:\n",
        "  print(\"n is even\")\n",
        "else:\n",
        "  print(\"n is odd\")"
      ],
      "execution_count": 11,
      "outputs": [
        {
          "output_type": "stream",
          "text": [
            "6\n",
            "n is even\n"
          ],
          "name": "stdout"
        }
      ]
    }
  ]
}